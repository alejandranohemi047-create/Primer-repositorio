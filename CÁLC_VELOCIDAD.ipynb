{
  "nbformat": 4,
  "nbformat_minor": 0,
  "metadata": {
    "colab": {
      "provenance": [],
      "authorship_tag": "ABX9TyPR/iPR5v2KoZ2VEMktgeQc",
      "include_colab_link": true
    },
    "kernelspec": {
      "name": "python3",
      "display_name": "Python 3"
    },
    "language_info": {
      "name": "python"
    }
  },
  "cells": [
    {
      "cell_type": "markdown",
      "metadata": {
        "id": "view-in-github",
        "colab_type": "text"
      },
      "source": [
        "<a href=\"https://colab.research.google.com/github/alejandranohemi047-create/Primer-repositorio/blob/main/C%C3%81LC_VELOCIDAD.ipynb\" target=\"_parent\"><img src=\"https://colab.research.google.com/assets/colab-badge.svg\" alt=\"Open In Colab\"/></a>"
      ]
    },
    {
      "cell_type": "code",
      "execution_count": 1,
      "metadata": {
        "colab": {
          "base_uri": "https://localhost:8080/"
        },
        "id": "tx6XZQ5_lUf9",
        "outputId": "9ec6a4a0-96c5-416e-b3e1-af469eb6406a"
      },
      "outputs": [
        {
          "output_type": "stream",
          "name": "stdout",
          "text": [
            "Ingrese la distancia en metros:60\n",
            "Ingrese el tiempo en segundos:30\n",
            "La velocidad es 2.0 m/s\n"
          ]
        }
      ],
      "source": [
        "distanciaRecorrida=float(input(\"Ingrese la distancia en metros:\"))\n",
        "tiempoTranscurrido =float(input(\"Ingrese el tiempo en segundos:\"))\n",
        "\n",
        "velocidadCalculada=distanciaRecorrida/tiempoTranscurrido\n",
        "\n",
        "print(f\"La velocidad es {velocidadCalculada} m/s\")\n"
      ]
    }
  ]
}