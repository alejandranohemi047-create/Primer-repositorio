{
  "nbformat": 4,
  "nbformat_minor": 0,
  "metadata": {
    "colab": {
      "provenance": [],
      "authorship_tag": "ABX9TyPnx/pMdokcoWu1aW4d+oBV",
      "include_colab_link": true
    },
    "kernelspec": {
      "name": "python3",
      "display_name": "Python 3"
    },
    "language_info": {
      "name": "python"
    }
  },
  "cells": [
    {
      "cell_type": "markdown",
      "metadata": {
        "id": "view-in-github",
        "colab_type": "text"
      },
      "source": [
        "<a href=\"https://colab.research.google.com/github/alejandranohemi047-create/Primer-repositorio/blob/main/MCM.ipynb\" target=\"_parent\"><img src=\"https://colab.research.google.com/assets/colab-badge.svg\" alt=\"Open In Colab\"/></a>"
      ]
    },
    {
      "cell_type": "code",
      "execution_count": 5,
      "metadata": {
        "colab": {
          "base_uri": "https://localhost:8080/"
        },
        "id": "ffDxnXf0pItY",
        "outputId": "b6f6de27-11c1-47ac-9d05-d16837fd944d"
      },
      "outputs": [
        {
          "output_type": "stream",
          "name": "stdout",
          "text": [
            "Ingrese el primer número: 48\n",
            "Ingrese el segundo número: 18\n",
            "El máximo común divisor de 48.0 y 18.0 es 6.0\n"
          ]
        }
      ],
      "source": [
        "a=float(input(\"Ingrese el primer número: \"))\n",
        "b=float(input(\"Ingrese el segundo número: \"))\n",
        "x, y = a, b\n",
        "while y != 0:\n",
        "    temp = y\n",
        "    y = x % y\n",
        "    x = temp\n",
        "print(\"El máximo común divisor de\", a, \"y\", b, \"es\", x)"
      ]
    }
  ]
}