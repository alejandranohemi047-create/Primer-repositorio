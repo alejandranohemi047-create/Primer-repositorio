{
  "nbformat": 4,
  "nbformat_minor": 0,
  "metadata": {
    "colab": {
      "provenance": [],
      "authorship_tag": "ABX9TyMRO0llvEJY4P91hDP+tds+",
      "include_colab_link": true
    },
    "kernelspec": {
      "name": "python3",
      "display_name": "Python 3"
    },
    "language_info": {
      "name": "python"
    }
  },
  "cells": [
    {
      "cell_type": "markdown",
      "metadata": {
        "id": "view-in-github",
        "colab_type": "text"
      },
      "source": [
        "<a href=\"https://colab.research.google.com/github/alejandranohemi047-create/Primer-repositorio/blob/main/C%C3%81LCULO_M%C3%8DNIMO_COM%C3%9AM_M%C3%9ALTIPLO.ipynb\" target=\"_parent\"><img src=\"https://colab.research.google.com/assets/colab-badge.svg\" alt=\"Open In Colab\"/></a>"
      ]
    },
    {
      "cell_type": "code",
      "execution_count": 13,
      "metadata": {
        "colab": {
          "base_uri": "https://localhost:8080/"
        },
        "id": "ffDxnXf0pItY",
        "outputId": "359d5c4a-c20b-4a22-cfe4-a30b5502d317"
      },
      "outputs": [
        {
          "output_type": "stream",
          "name": "stdout",
          "text": [
            "Ingresa el primer número: 2\n",
            "Ingresa el segundo número: 4\n",
            "El MCM de 2 y 4 es: 4\n"
          ]
        }
      ],
      "source": [
        "# Función para calcular el MCD (Máximo Común Divisor)\n",
        "def calcular_mcd(a, b):\n",
        "    while b != 0:\n",
        "        a, b = b, a % b\n",
        "    return a\n",
        "\n",
        "# Función para calcular el MCM usando el MCD\n",
        "def calcular_mcm(a, b):\n",
        "    mcd = calcular_mcd(a, b)\n",
        "    mcm = (a * b) // mcd\n",
        "    return mcm\n",
        "\n",
        "# Entrada del usuario\n",
        "a = int(input(\"Ingresa el primer número: \"))\n",
        "b = int(input(\"Ingresa el segundo número: \"))\n",
        "\n",
        "# Cálculo y salida\n",
        "resultado = calcular_mcm(a, b)\n",
        "print(\"El MCM de\", a, \"y\", b, \"es:\", resultado)\n"
      ]
    }
  ]
}