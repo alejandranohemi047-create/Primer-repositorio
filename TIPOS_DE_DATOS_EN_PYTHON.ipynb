{
  "nbformat": 4,
  "nbformat_minor": 0,
  "metadata": {
    "colab": {
      "provenance": [],
      "authorship_tag": "ABX9TyMMTpCgIzqeAndFyz3Mz6LM",
      "include_colab_link": true
    },
    "kernelspec": {
      "name": "python3",
      "display_name": "Python 3"
    },
    "language_info": {
      "name": "python"
    }
  },
  "cells": [
    {
      "cell_type": "markdown",
      "metadata": {
        "id": "view-in-github",
        "colab_type": "text"
      },
      "source": [
        "<a href=\"https://colab.research.google.com/github/alejandranohemi047-create/Primer-repositorio/blob/main/TIPOS_DE_DATOS_EN_PYTHON.ipynb\" target=\"_parent\"><img src=\"https://colab.research.google.com/assets/colab-badge.svg\" alt=\"Open In Colab\"/></a>"
      ]
    },
    {
      "cell_type": "code",
      "execution_count": 11,
      "metadata": {
        "colab": {
          "base_uri": "https://localhost:8080/"
        },
        "id": "8ruFyrbuuGbM",
        "outputId": "d785c611-9f46-44ed-f827-8d6680697e93"
      },
      "outputs": [
        {
          "output_type": "stream",
          "name": "stdout",
          "text": [
            " un entero puede ser: 10\n",
            " un decimal puede ser: 10.5\n",
            " un texto puede ser: queonda\n",
            " un booleano puede ser: True\n",
            " un nulo puede ser: None\n",
            " una lista puede ser: [1, 2, 3]\n",
            " una tupla puede ser: (1, 2, 3)\n",
            " un diccionario puede ser: {'nombre': 'Juan', 'edad': 30}\n"
          ]
        }
      ],
      "source": [
        "#Tipos de Datos:\n",
        "entero = 10\n",
        "decimal = 10.5\n",
        "texto = \"queonda\"\n",
        "booleano = True\n",
        "Nulo = None\n",
        "Lista = [1, 2, 3]\n",
        "Tupla = (1, 2, 3)\n",
        "Diccionario = {\"nombre\": \"Juan\", \"edad\": 30}\n",
        "\n",
        "print (\" un entero puede ser:\", entero)\n",
        "print (\" un decimal puede ser:\", decimal)\n",
        "print (\" un texto puede ser:\", texto)\n",
        "print (\" un booleano puede ser:\", booleano)\n",
        "print (\" un nulo puede ser:\", Nulo)\n",
        "print (\" una lista puede ser:\", Lista)\n",
        "print (\" una tupla puede ser:\", Tupla)\n",
        "print (\" un diccionario puede ser:\", Diccionario)"
      ]
    }
  ]
}